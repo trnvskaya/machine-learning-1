{
 "cells": [
  {
   "cell_type": "markdown",
   "id": "39a4a2e3-9454-41b3-9765-c3575e7ddf22",
   "metadata": {},
   "source": [
    "# Úkol č. 1 - předzpracování dat a binární klasifikace\n",
    "\n",
    "* Termíny jsou uvedeny na [courses.fit.cvut.cz/BI-ML1/homeworks/index.html](https://courses.fit.cvut.cz/BI-ML1/homeworks/index.html).\n",
    "* Pokud odevzdáte úkol po prvním termínu ale před nejzazším termínem, budete penalizování -12 body, pozdější odevzdání je bez bodu.\n",
    "* V rámci tohoto úkolu se musíte vypořádat s klasifikační úlohou s příznaky různých typů a s chybějícími hodnotami.\n",
    "* Před tím, než na nich postavíte predikční model, je třeba je nějakým způsobem převést do číselné reprezentace.\n",
    "    \n",
    "> **Úkoly jsou zadány tak, aby Vám daly prostor pro invenci. Vymyslet _jak přesně_ budete úkol řešit, je důležitou součástí zadání a originalita či nápaditost bude také hodnocena!**\n",
    "\n",
    "Využívejte buňky typu `Markdown` k vysvětlování Vašeho postupu. Za nepřehlednost budeme strhávat body.\n",
    "\n",
    "## Zdroj dat\n",
    "\n",
    "Budeme se zabývat predikcí přežití pasažérů Titaniku.\n",
    "K dispozici máte trénovací data v souboru `data.csv` a data na vyhodnocení v souboru `evaluation.csv`.\n",
    "\n",
    "#### Seznam příznaků:\n",
    "* survived - zda pasažér přežil, 0 = Ne, 1 = Ano; **vysvětlovaná proměnná**, kterou chcete predikovat\n",
    "* pclass - Třída lodního lístku, 1 = první, 2 = druhá, 3 = třetí\n",
    "* name - jméno\n",
    "* sex - pohlaví\n",
    "* age - věk v letech\n",
    "* sibsp\t- počet sourozenců / manželů, manželek na palubě\n",
    "* parch - počet rodičů / dětí na palubě\n",
    "* ticket - číslo lodního lístku\n",
    "* fare - cena lodního lístku\n",
    "* cabin\t- číslo kajuty\n",
    "* embarked\t- místo nalodění, C = Cherbourg, Q = Queenstown, S = Southampton\n",
    "* home.dest - Bydliště/Cíl\n",
    "\n",
    "## Pokyny k vypracování\n",
    "\n",
    "**Body zadání**, za jejichž (poctivé) vypracování získáte **25 bodů**: \n",
    "  * V notebooku načtěte data ze souboru `data.csv`. Vhodným způsobem si je rozdělte na podmnožiny, které Vám poslouží pro trénování (trénovací), porovnávání modelů (validační) a následnou predikci výkonnosti finálního modelu (testovací).\n",
    "    \n",
    "  * Proveďte základní předzpracování dat:\n",
    "    * Projděte si jednotlivé příznaky a transformujte je do vhodné podoby pro použití ve vybraném klasifikačním modelu.\n",
    "    * Podle potřeby si můžete vytvářet nové příznaky (na základě existujících), například tedy můžete vytvořit příznak měřící délku jména atp.\n",
    "    * Některé příznaky můžete také úplně zahodit.\n",
    "    * Nějakým způsobem (klidně triviálním) se vypořádejte s chybějícími hodnotami. Není potřeba používat sofistikované metody. _Hlavně pozor na metodické chyby!_\n",
    "    * Můžete využívat i vizualizace a vše stručně ale náležitě komentujte.\n",
    "\n",
    "  \n",
    "  * Na připravená data postupně aplikujte **rozhodovací strom** a **metodu nejbližších sousedů**, přičemž pro každý z těchto modelů:\n",
    "    * Okomentujte vhodnost daného modelu pro daný typ úlohy.\n",
    "    * Vyberte si hlavní hyperparametry k ladění a najděte jejich nejlepší hodnoty.\n",
    "    * Pro model s nejlepšími hodnotami hyperparametrů spočtěte F1 skóre, nakreslete ROC křivku a určete AUC. _Pozor na metodické chyby!_\n",
    "    * Získané výsledky vždy řádně okomentujte.\n",
    "\n",
    "        \n",
    "  * Ze všech zkoušených možností v předchozím kroku vyberte finální model (jednoznačně popište o který konkrétně jde) a správně odhadněte, jakou **přesnost** můžete očekávat na nových datech, která jste doposud neměli k dispozici. _Pozor na metodické chyby!_\n",
    "    \n",
    "  * Nakonec načtěte vyhodnocovací data ze souboru `evaluation.csv`. Pomocí finálního modelu napočítejte predikce pro tyto data (vysvětlovaná proměnná v nich již není). Vytvořte soubor `results.csv`, ve kterém získané predikce uložíte do sloupce **survived** a identifikátory do sloupce **ID** (dodržte názvy sloupců!). Tento soubor též odevzdejte (uložte do repozitáře vedle notebooku).\n",
    "\n",
    "      * Snažte se vše udělat tak, aby přesnost odevzdaných predikcí na vyhodocovacím datasetu byla alespoň **75%**. Pokud bude menší, přijdete o **3 body**.\n",
    "      * Ukázka, jak by mělo vypadat prvních několik řádků souboru `results.csv` (obecně s jinými hodnotami survived):\n",
    "  \n",
    "```\n",
    "ID,survived\n",
    "1000,0\n",
    "1001,1\n",
    "...\n",
    "```\n",
    "\n",
    "## Poznámky k odevzdání\n",
    "\n",
    "  * Řiďte se pokyny ze stránky https://courses.fit.cvut.cz/BI-ML1/homeworks/index.html.\n",
    "  * Vytvořte i csv soubor `results.csv` s predikcemi a uložte ho v rámci projektu vedle ipython notebooku."
   ]
  },
  {
   "cell_type": "markdown",
   "id": "61ea0eb0",
   "metadata": {},
   "source": [
    "## **Solution**"
   ]
  },
  {
   "cell_type": "markdown",
   "id": "88d53a87",
   "metadata": {},
   "source": [
    "**importing libraries we will use**"
   ]
  },
  {
   "cell_type": "code",
   "execution_count": 1,
   "id": "003f7995-4bc0-42d8-a9ac-456638cdd708",
   "metadata": {},
   "outputs": [],
   "source": [
    "import pandas as pd\n",
    "import numpy as np\n",
    "import matplotlib.pyplot as plt\n",
    "from sklearn.model_selection import train_test_split"
   ]
  },
  {
   "cell_type": "markdown",
   "id": "61a9071f",
   "metadata": {},
   "source": [
    "**reading csv file of data about titanic passangers**"
   ]
  },
  {
   "cell_type": "code",
   "execution_count": 2,
   "id": "edfdab46",
   "metadata": {},
   "outputs": [
    {
     "data": {
      "text/html": [
       "<div>\n",
       "<style scoped>\n",
       "    .dataframe tbody tr th:only-of-type {\n",
       "        vertical-align: middle;\n",
       "    }\n",
       "\n",
       "    .dataframe tbody tr th {\n",
       "        vertical-align: top;\n",
       "    }\n",
       "\n",
       "    .dataframe thead th {\n",
       "        text-align: right;\n",
       "    }\n",
       "</style>\n",
       "<table border=\"1\" class=\"dataframe\">\n",
       "  <thead>\n",
       "    <tr style=\"text-align: right;\">\n",
       "      <th></th>\n",
       "      <th>ID</th>\n",
       "      <th>survived</th>\n",
       "      <th>pclass</th>\n",
       "      <th>name</th>\n",
       "      <th>sex</th>\n",
       "      <th>age</th>\n",
       "      <th>sibsp</th>\n",
       "      <th>parch</th>\n",
       "      <th>ticket</th>\n",
       "      <th>fare</th>\n",
       "      <th>cabin</th>\n",
       "      <th>embarked</th>\n",
       "      <th>home.dest</th>\n",
       "    </tr>\n",
       "  </thead>\n",
       "  <tbody>\n",
       "    <tr>\n",
       "      <th>0</th>\n",
       "      <td>0</td>\n",
       "      <td>0</td>\n",
       "      <td>2</td>\n",
       "      <td>Baimbrigge, Mr. Charles Robert</td>\n",
       "      <td>male</td>\n",
       "      <td>23.0</td>\n",
       "      <td>0</td>\n",
       "      <td>0</td>\n",
       "      <td>C.A. 31030</td>\n",
       "      <td>10.5000</td>\n",
       "      <td>NaN</td>\n",
       "      <td>S</td>\n",
       "      <td>Guernsey</td>\n",
       "    </tr>\n",
       "    <tr>\n",
       "      <th>1</th>\n",
       "      <td>1</td>\n",
       "      <td>0</td>\n",
       "      <td>3</td>\n",
       "      <td>Aronsson, Mr. Ernst Axel Algot</td>\n",
       "      <td>male</td>\n",
       "      <td>24.0</td>\n",
       "      <td>0</td>\n",
       "      <td>0</td>\n",
       "      <td>349911</td>\n",
       "      <td>7.7750</td>\n",
       "      <td>NaN</td>\n",
       "      <td>S</td>\n",
       "      <td>Sweden Joliet, IL</td>\n",
       "    </tr>\n",
       "    <tr>\n",
       "      <th>2</th>\n",
       "      <td>2</td>\n",
       "      <td>0</td>\n",
       "      <td>3</td>\n",
       "      <td>Novel, Mr. Mansouer</td>\n",
       "      <td>male</td>\n",
       "      <td>28.5</td>\n",
       "      <td>0</td>\n",
       "      <td>0</td>\n",
       "      <td>2697</td>\n",
       "      <td>7.2292</td>\n",
       "      <td>NaN</td>\n",
       "      <td>C</td>\n",
       "      <td>NaN</td>\n",
       "    </tr>\n",
       "    <tr>\n",
       "      <th>3</th>\n",
       "      <td>3</td>\n",
       "      <td>0</td>\n",
       "      <td>3</td>\n",
       "      <td>Osen, Mr. Olaf Elon</td>\n",
       "      <td>male</td>\n",
       "      <td>16.0</td>\n",
       "      <td>0</td>\n",
       "      <td>0</td>\n",
       "      <td>7534</td>\n",
       "      <td>9.2167</td>\n",
       "      <td>NaN</td>\n",
       "      <td>S</td>\n",
       "      <td>NaN</td>\n",
       "    </tr>\n",
       "    <tr>\n",
       "      <th>4</th>\n",
       "      <td>4</td>\n",
       "      <td>1</td>\n",
       "      <td>2</td>\n",
       "      <td>Navratil, Master. Michel M</td>\n",
       "      <td>male</td>\n",
       "      <td>3.0</td>\n",
       "      <td>1</td>\n",
       "      <td>1</td>\n",
       "      <td>230080</td>\n",
       "      <td>26.0000</td>\n",
       "      <td>F2</td>\n",
       "      <td>S</td>\n",
       "      <td>Nice, France</td>\n",
       "    </tr>\n",
       "  </tbody>\n",
       "</table>\n",
       "</div>"
      ],
      "text/plain": [
       "   ID  survived  pclass                            name   sex   age  sibsp  \\\n",
       "0   0         0       2  Baimbrigge, Mr. Charles Robert  male  23.0      0   \n",
       "1   1         0       3  Aronsson, Mr. Ernst Axel Algot  male  24.0      0   \n",
       "2   2         0       3             Novel, Mr. Mansouer  male  28.5      0   \n",
       "3   3         0       3             Osen, Mr. Olaf Elon  male  16.0      0   \n",
       "4   4         1       2      Navratil, Master. Michel M  male   3.0      1   \n",
       "\n",
       "   parch      ticket     fare cabin embarked          home.dest  \n",
       "0      0  C.A. 31030  10.5000   NaN        S           Guernsey  \n",
       "1      0      349911   7.7750   NaN        S  Sweden Joliet, IL  \n",
       "2      0        2697   7.2292   NaN        C                NaN  \n",
       "3      0        7534   9.2167   NaN        S                NaN  \n",
       "4      1      230080  26.0000    F2        S       Nice, France  "
      ]
     },
     "execution_count": 2,
     "metadata": {},
     "output_type": "execute_result"
    }
   ],
   "source": [
    "data_df = pd.read_csv('data.csv')\n",
    "data_df.head()"
   ]
  },
  {
   "cell_type": "markdown",
   "id": "35c2913a",
   "metadata": {},
   "source": [
    "**looking at data types of columns, number of entries and non-null count**"
   ]
  },
  {
   "cell_type": "code",
   "execution_count": 3,
   "id": "37133b48",
   "metadata": {},
   "outputs": [
    {
     "name": "stdout",
     "output_type": "stream",
     "text": [
      "<class 'pandas.core.frame.DataFrame'>\n",
      "RangeIndex: 1000 entries, 0 to 999\n",
      "Data columns (total 13 columns):\n",
      " #   Column     Non-Null Count  Dtype  \n",
      "---  ------     --------------  -----  \n",
      " 0   ID         1000 non-null   int64  \n",
      " 1   survived   1000 non-null   int64  \n",
      " 2   pclass     1000 non-null   int64  \n",
      " 3   name       1000 non-null   object \n",
      " 4   sex        1000 non-null   object \n",
      " 5   age        796 non-null    float64\n",
      " 6   sibsp      1000 non-null   int64  \n",
      " 7   parch      1000 non-null   int64  \n",
      " 8   ticket     1000 non-null   object \n",
      " 9   fare       1000 non-null   float64\n",
      " 10  cabin      225 non-null    object \n",
      " 11  embarked   1000 non-null   object \n",
      " 12  home.dest  573 non-null    object \n",
      "dtypes: float64(2), int64(5), object(6)\n",
      "memory usage: 101.7+ KB\n"
     ]
    }
   ],
   "source": [
    "data_df.info()"
   ]
  },
  {
   "cell_type": "markdown",
   "id": "9d88144f",
   "metadata": {},
   "source": [
    "**seeing how many null-values are in the dataset**"
   ]
  },
  {
   "cell_type": "code",
   "execution_count": 4,
   "id": "22420db9",
   "metadata": {},
   "outputs": [
    {
     "data": {
      "text/plain": [
       "ID             0\n",
       "survived       0\n",
       "pclass         0\n",
       "name           0\n",
       "sex            0\n",
       "age          204\n",
       "sibsp          0\n",
       "parch          0\n",
       "ticket         0\n",
       "fare           0\n",
       "cabin        775\n",
       "embarked       0\n",
       "home.dest    427\n",
       "dtype: int64"
      ]
     },
     "execution_count": 4,
     "metadata": {},
     "output_type": "execute_result"
    }
   ],
   "source": [
    "data_df.isnull().sum(axis=0)"
   ]
  },
  {
   "cell_type": "markdown",
   "id": "3e786a33",
   "metadata": {},
   "source": [
    "*We can see that most null-values are in columns `age`, `cabin` and `home.dest`*"
   ]
  },
  {
   "cell_type": "markdown",
   "id": "0af7cb7d",
   "metadata": {},
   "source": [
    "> In the Titanic dataset, dropping `ID`, `name`, `ticket`, `cabin` and `home.dest` columns makes sense, as these fields don’t contribute to predicting survival. The `ID` is simply a unique identifier without relevance to survival chances. `Names` are specific to each passenger and don’t directly impact survival. `Ticket` and `cabin` numbers are nearly unique and don’t offer meaningful insights into survival. `Destination/hometown` also do not give informative insights, as the destination can be same for passangers of different classes, same as hometown. Removing these columns reduces noise, allowing the model to focus on features that have a real influence on survival outcomes (such as age, sex, pclass and number of relatives on board)."
   ]
  },
  {
   "cell_type": "code",
   "execution_count": 5,
   "id": "f494da03",
   "metadata": {},
   "outputs": [],
   "source": [
    "data_df.drop(columns=[\"ID\", \"name\", \"ticket\", \"cabin\", \"home.dest\"], inplace=True)"
   ]
  },
  {
   "cell_type": "markdown",
   "id": "0b5a44d8",
   "metadata": {},
   "source": [
    "**making `object` columns have factorized values (model needs numeric encoding to learn better)**"
   ]
  },
  {
   "cell_type": "code",
   "execution_count": 6,
   "id": "1210e057",
   "metadata": {},
   "outputs": [],
   "source": [
    "for col in data_df.select_dtypes(['object']).columns:\n",
    "    data_df[col] = pd.factorize(data_df[col])[0]"
   ]
  },
  {
   "cell_type": "markdown",
   "id": "1fda871f",
   "metadata": {},
   "source": [
    "**looking at the result**"
   ]
  },
  {
   "cell_type": "code",
   "execution_count": 7,
   "id": "a8196617",
   "metadata": {},
   "outputs": [
    {
     "data": {
      "text/html": [
       "<div>\n",
       "<style scoped>\n",
       "    .dataframe tbody tr th:only-of-type {\n",
       "        vertical-align: middle;\n",
       "    }\n",
       "\n",
       "    .dataframe tbody tr th {\n",
       "        vertical-align: top;\n",
       "    }\n",
       "\n",
       "    .dataframe thead th {\n",
       "        text-align: right;\n",
       "    }\n",
       "</style>\n",
       "<table border=\"1\" class=\"dataframe\">\n",
       "  <thead>\n",
       "    <tr style=\"text-align: right;\">\n",
       "      <th></th>\n",
       "      <th>survived</th>\n",
       "      <th>pclass</th>\n",
       "      <th>sex</th>\n",
       "      <th>age</th>\n",
       "      <th>sibsp</th>\n",
       "      <th>parch</th>\n",
       "      <th>fare</th>\n",
       "      <th>embarked</th>\n",
       "    </tr>\n",
       "  </thead>\n",
       "  <tbody>\n",
       "    <tr>\n",
       "      <th>0</th>\n",
       "      <td>0</td>\n",
       "      <td>2</td>\n",
       "      <td>0</td>\n",
       "      <td>23.0</td>\n",
       "      <td>0</td>\n",
       "      <td>0</td>\n",
       "      <td>10.5000</td>\n",
       "      <td>0</td>\n",
       "    </tr>\n",
       "    <tr>\n",
       "      <th>1</th>\n",
       "      <td>0</td>\n",
       "      <td>3</td>\n",
       "      <td>0</td>\n",
       "      <td>24.0</td>\n",
       "      <td>0</td>\n",
       "      <td>0</td>\n",
       "      <td>7.7750</td>\n",
       "      <td>0</td>\n",
       "    </tr>\n",
       "    <tr>\n",
       "      <th>2</th>\n",
       "      <td>0</td>\n",
       "      <td>3</td>\n",
       "      <td>0</td>\n",
       "      <td>28.5</td>\n",
       "      <td>0</td>\n",
       "      <td>0</td>\n",
       "      <td>7.2292</td>\n",
       "      <td>1</td>\n",
       "    </tr>\n",
       "    <tr>\n",
       "      <th>3</th>\n",
       "      <td>0</td>\n",
       "      <td>3</td>\n",
       "      <td>0</td>\n",
       "      <td>16.0</td>\n",
       "      <td>0</td>\n",
       "      <td>0</td>\n",
       "      <td>9.2167</td>\n",
       "      <td>0</td>\n",
       "    </tr>\n",
       "    <tr>\n",
       "      <th>4</th>\n",
       "      <td>1</td>\n",
       "      <td>2</td>\n",
       "      <td>0</td>\n",
       "      <td>3.0</td>\n",
       "      <td>1</td>\n",
       "      <td>1</td>\n",
       "      <td>26.0000</td>\n",
       "      <td>0</td>\n",
       "    </tr>\n",
       "    <tr>\n",
       "      <th>5</th>\n",
       "      <td>1</td>\n",
       "      <td>1</td>\n",
       "      <td>1</td>\n",
       "      <td>52.0</td>\n",
       "      <td>1</td>\n",
       "      <td>1</td>\n",
       "      <td>93.5000</td>\n",
       "      <td>0</td>\n",
       "    </tr>\n",
       "    <tr>\n",
       "      <th>6</th>\n",
       "      <td>1</td>\n",
       "      <td>1</td>\n",
       "      <td>1</td>\n",
       "      <td>36.0</td>\n",
       "      <td>0</td>\n",
       "      <td>0</td>\n",
       "      <td>135.6333</td>\n",
       "      <td>1</td>\n",
       "    </tr>\n",
       "    <tr>\n",
       "      <th>7</th>\n",
       "      <td>1</td>\n",
       "      <td>1</td>\n",
       "      <td>1</td>\n",
       "      <td>24.0</td>\n",
       "      <td>0</td>\n",
       "      <td>0</td>\n",
       "      <td>69.3000</td>\n",
       "      <td>1</td>\n",
       "    </tr>\n",
       "    <tr>\n",
       "      <th>8</th>\n",
       "      <td>0</td>\n",
       "      <td>3</td>\n",
       "      <td>0</td>\n",
       "      <td>28.0</td>\n",
       "      <td>0</td>\n",
       "      <td>0</td>\n",
       "      <td>7.8958</td>\n",
       "      <td>0</td>\n",
       "    </tr>\n",
       "    <tr>\n",
       "      <th>9</th>\n",
       "      <td>1</td>\n",
       "      <td>2</td>\n",
       "      <td>0</td>\n",
       "      <td>42.0</td>\n",
       "      <td>0</td>\n",
       "      <td>0</td>\n",
       "      <td>13.0000</td>\n",
       "      <td>0</td>\n",
       "    </tr>\n",
       "  </tbody>\n",
       "</table>\n",
       "</div>"
      ],
      "text/plain": [
       "   survived  pclass  sex   age  sibsp  parch      fare  embarked\n",
       "0         0       2    0  23.0      0      0   10.5000         0\n",
       "1         0       3    0  24.0      0      0    7.7750         0\n",
       "2         0       3    0  28.5      0      0    7.2292         1\n",
       "3         0       3    0  16.0      0      0    9.2167         0\n",
       "4         1       2    0   3.0      1      1   26.0000         0\n",
       "5         1       1    1  52.0      1      1   93.5000         0\n",
       "6         1       1    1  36.0      0      0  135.6333         1\n",
       "7         1       1    1  24.0      0      0   69.3000         1\n",
       "8         0       3    0  28.0      0      0    7.8958         0\n",
       "9         1       2    0  42.0      0      0   13.0000         0"
      ]
     },
     "execution_count": 7,
     "metadata": {},
     "output_type": "execute_result"
    }
   ],
   "source": [
    "data_df.head(10)"
   ]
  },
  {
   "cell_type": "markdown",
   "id": "463ee113",
   "metadata": {},
   "source": [
    "**dividing the dataset into target variable I want to predict and attribute matrix**"
   ]
  },
  {
   "cell_type": "code",
   "execution_count": 8,
   "id": "14e2055b",
   "metadata": {},
   "outputs": [],
   "source": [
    "Xdata = data_df.drop('survived', axis=1)\n",
    "ydata = data_df.survived"
   ]
  },
  {
   "cell_type": "markdown",
   "id": "42be9589",
   "metadata": {},
   "source": [
    "**splitting the dataset using `train_test_split` function from the `sklearn` library with a random_state and test_size being `40%`**"
   ]
  },
  {
   "cell_type": "code",
   "execution_count": 9,
   "id": "7df924f3",
   "metadata": {},
   "outputs": [],
   "source": [
    "Xtrain, Xtest, ytrain, ytest = train_test_split(Xdata, ydata, test_size=0.4, random_state=333)"
   ]
  },
  {
   "cell_type": "markdown",
   "id": "b6890d91",
   "metadata": {},
   "source": [
    "**splitting the second part of dataset into validation and test, so that both test and validation are now `20%` of the given dataset**"
   ]
  },
  {
   "cell_type": "code",
   "execution_count": 10,
   "id": "08c9c132",
   "metadata": {},
   "outputs": [],
   "source": [
    "Xval, Xtest, yval, ytest = train_test_split(Xtest, ytest, test_size=0.5, random_state=333) "
   ]
  },
  {
   "cell_type": "markdown",
   "id": "ee5cf866",
   "metadata": {},
   "source": [
    "**changing missing values of `age` and `fare` to median value. For fare, the median should be calculated by passenger class, as this would more accurately reflect fare distribution patterns**"
   ]
  },
  {
   "cell_type": "code",
   "execution_count": 11,
   "id": "e2eef3ab",
   "metadata": {},
   "outputs": [],
   "source": [
    "age_median = Xtrain[\"age\"].median()\n",
    "Xtrain[\"age\"] = Xtrain[\"age\"].fillna(age_median)\n",
    "Xval[\"age\"] = Xval[\"age\"].fillna(age_median)\n",
    "Xtest[\"age\"] = Xtest[\"age\"].fillna(age_median)\n",
    "\n",
    "\n",
    "# changing fare to median fare by pclass \n",
    "Xtrain['fare'] = Xtrain.groupby('pclass')['fare'].transform(lambda x: x.fillna(x.median()))\n",
    "Xval['fare'] = Xval.groupby('pclass')['fare'].transform(lambda x: x.fillna(x.median()))\n",
    "Xtest['fare'] = Xtest.groupby('pclass')['fare'].transform(lambda x: x.fillna(x.median()))"
   ]
  },
  {
   "cell_type": "markdown",
   "id": "9ea3981e",
   "metadata": {},
   "source": [
    "**replacing null-values with -1**"
   ]
  },
  {
   "cell_type": "code",
   "execution_count": 12,
   "id": "812040c7",
   "metadata": {},
   "outputs": [],
   "source": [
    "Xtrain = Xtrain.replace(np.nan, -1)\n",
    "Xval = Xval.replace(np.nan, -1)\n",
    "Xtest = Xtest.replace(np.nan, -1)"
   ]
  },
  {
   "cell_type": "markdown",
   "id": "5b32595b",
   "metadata": {},
   "source": [
    "> Replacing `NaN` values with `-1` ensures missing data is handled consistently across datasets without removing rows it serves as a placeholder that models can recognize and interpret differently from other values allowing for better handling of incomplete data"
   ]
  },
  {
   "cell_type": "markdown",
   "id": "7167fcc0",
   "metadata": {},
   "source": [
    "### **Decision Tree**"
   ]
  },
  {
   "cell_type": "markdown",
   "id": "1b2d5666",
   "metadata": {},
   "source": [
    "> A decision tree is a suitable choice because it’s highly interpretable, capable of handling both numerical and categorical data, and effectively captures non-linear relationships in features. Its non-parametric nature allows it to adapt to various data patterns without assumptions about the data distribution. Decision trees are also efficient in training and prediction, which is useful when testing multiple parameter combinations. "
   ]
  },
  {
   "cell_type": "code",
   "execution_count": 13,
   "id": "22c8cc40",
   "metadata": {},
   "outputs": [],
   "source": [
    "from sklearn.tree import DecisionTreeClassifier\n",
    "from sklearn.model_selection import ParameterGrid\n",
    "import sklearn.metrics as metrics"
   ]
  },
  {
   "cell_type": "markdown",
   "id": "d1d97db5",
   "metadata": {},
   "source": [
    "**finding parameters most suitable for decision tree model**"
   ]
  },
  {
   "cell_type": "code",
   "execution_count": 14,
   "id": "0fb5ac10",
   "metadata": {},
   "outputs": [],
   "source": [
    "# Define a grid of hyperparameters for the Decision Tree model\n",
    "parameter_grid = {\n",
    "    'max_depth': range(3, 30),            # Maximum depth of the tree; controls complexity and overfitting\n",
    "    'criterion': ['entropy', 'gini'],     # Function to measure split quality: 'entropy' (information gain) or 'gini' impurity\n",
    "}\n",
    "\n",
    "# Generate all combinations of hyperparameters from the parameter grid\n",
    "parameter_comb = ParameterGrid(parameter_grid)\n",
    "\n",
    "# Initialize lists to store accuracy scores for training and validation datasets\n",
    "valid = []\n",
    "training = []\n",
    "\n",
    "# Iterate over each parameter combination, train the model, and evaluate performance\n",
    "for parameters in parameter_comb:\n",
    "    # Create a DecisionTreeClassifier with the current set of hyperparameters\n",
    "    clf = DecisionTreeClassifier(**parameters)\n",
    "    \n",
    "    # Fit the classifier to the training data\n",
    "    clf.fit(Xtrain, ytrain)\n",
    "    \n",
    "    # Evaluate the classifier on the training set and append the accuracy score\n",
    "    training.append(metrics.accuracy_score(ytrain, clf.predict(Xtrain)))\n",
    "    \n",
    "    # Evaluate the classifier on the validation set and append the accuracy score\n",
    "    valid.append(metrics.accuracy_score(yval, clf.predict(Xval)))"
   ]
  },
  {
   "cell_type": "markdown",
   "id": "037fbf3b",
   "metadata": {},
   "source": [
    "**training our decision tree model**"
   ]
  },
  {
   "cell_type": "code",
   "execution_count": 15,
   "id": "fa42dfd3",
   "metadata": {},
   "outputs": [
    {
     "name": "stdout",
     "output_type": "stream",
     "text": [
      "Accuracy for training set: 0.782\n",
      "Accuracy for validation set: 0.845\n"
     ]
    }
   ],
   "source": [
    "# Select the best hyperparameter combination based on the highest validation accuracy\n",
    "best_parameters = parameter_comb[np.argmax(valid)]\n",
    "\n",
    "# Initialize a DecisionTreeClassifier using the best-performing hyperparameters\n",
    "tree_model = DecisionTreeClassifier(**best_parameters)\n",
    "tree_model.fit(Xtrain, ytrain)\n",
    "print('Accuracy for training set: {0:.3f}'.format(metrics.accuracy_score(ytrain, tree_model.predict(Xtrain))))\n",
    "print('Accuracy for validation set: {0:.3f}'.format(metrics.accuracy_score(yval, tree_model.predict(Xval))))"
   ]
  },
  {
   "cell_type": "markdown",
   "id": "b2c94343",
   "metadata": {},
   "source": [
    "> The `F1 Score` balances precision and recall, making it ideal for imbalanced datasets, with values closer to 1 indicating better performance.\n",
    ">\n",
    "> The `ROC Curve` shows a model’s ability to distinguish classes by plotting true positive rate versus false positive rate; its AUC value (closer to 1) signals strong model discrimination, while 0.5 suggests random guessing."
   ]
  },
  {
   "cell_type": "code",
   "execution_count": 16,
   "id": "fe88c63f",
   "metadata": {},
   "outputs": [
    {
     "name": "stdout",
     "output_type": "stream",
     "text": [
      "F1 Score is: 0.775\n"
     ]
    }
   ],
   "source": [
    "#find f1 score for our best decision tree model \n",
    "from sklearn.metrics import f1_score\n",
    "\n",
    "y_pred = tree_model.predict(Xtest)\n",
    "f1 = f1_score(ytest, y_pred)\n",
    "print(\"F1 Score is:\", f1.round(3))"
   ]
  },
  {
   "cell_type": "code",
   "execution_count": 17,
   "id": "dcb4e248",
   "metadata": {},
   "outputs": [
    {
     "data": {
      "image/png": "[encoded data removed]",
      "text/plain": [
       "<Figure size 800x600 with 1 Axes>"
      ]
     },
     "metadata": {},
     "output_type": "display_data"
    }
   ],
   "source": [
    "#find ROC curve for our best decision tree model\n",
    "from sklearn.metrics import roc_curve, auc\n",
    "\n",
    "y_prob = tree_model.predict_proba(Xtest)[:,1]\n",
    "\n",
    "#finding values for auc score of roc curve\n",
    "fpr, tpr, thresholds = roc_curve(ytest, y_prob)\n",
    "roc_auc = auc(fpr, tpr)\n",
    "\n",
    "plt.figure(figsize=(8, 6))\n",
    "plt.plot(fpr, tpr, color='darkorange', lw=2, label='ROC curve (AUC = %0.3f)' % roc_auc)\n",
    "plt.plot([0, 1], [0, 1], color='navy', linestyle='--', lw=1.5, label='Chance')\n",
    "plt.fill_between(fpr, tpr, alpha=0.1, color='orange')  # Fill area under the curve\n",
    "\n",
    "# Adding titles and labels\n",
    "plt.title('Receiver Operating Characteristic (ROC) Curve', fontsize=16, weight='bold')\n",
    "plt.xlabel('False Positive Rate', fontsize=12)\n",
    "plt.ylabel('True Positive Rate', fontsize=12)\n",
    "plt.xlim([0.0, 1.0])\n",
    "plt.ylim([0.0, 1.05])\n",
    "\n",
    "# Grid and legend\n",
    "plt.grid(True, linestyle='--', alpha=0.6)\n",
    "plt.legend(loc=\"lower right\", fontsize=10)\n",
    "plt.show()"
   ]
  },
  {
   "cell_type": "markdown",
   "id": "4800dc0f",
   "metadata": {},
   "source": [
    "> An F1 Score of approximately 77% suggests the model strikes a moderate balance between precision and recall. An AUC around 89% indicates a reasonably strong model. The smooth curve of the ROC suggests that true positives increase with only a small rise in false positives, pointing to a quality model."
   ]
  },
  {
   "cell_type": "markdown",
   "id": "f04c84fb",
   "metadata": {},
   "source": [
    "### **kNN prediction**"
   ]
  },
  {
   "cell_type": "markdown",
   "id": "c2c6d77b",
   "metadata": {},
   "source": [
    "> K-Nearest Neighbors (KNN) is suitable for the Titanic dataset due to its simplicity and effectiveness in handling classification problems. It can easily classify passengers as survivors or non-survivors based on features like age, gender, and class. KNN doesn’t require assumptions about data distribution and can adapt well to the non-linear relationships often present in such datasets. Additionally, since the Titanic dataset is relatively small, KNN can efficiently compute distances between data points to make accurate predictions without significant computational overhead."
   ]
  },
  {
   "cell_type": "code",
   "execution_count": 18,
   "id": "756e7aa2",
   "metadata": {},
   "outputs": [],
   "source": [
    "from sklearn.neighbors import KNeighborsClassifier\n",
    "from sklearn.preprocessing import MinMaxScaler"
   ]
  },
  {
   "cell_type": "markdown",
   "id": "67bbc4a7",
   "metadata": {},
   "source": [
    "> These parameters allow us to explore a range of options that influence the K-Nearest Neighbors (KNN) model’s accuracy and adaptability to data structure. The `n_neighbors` parameter adjusts the model’s sensitivity by balancing local detail with generalization. Testing different `weights` allows us to evaluate whether closer points should influence predictions more heavily, which can improve accuracy for data where proximity matters. The choice of `metric` helps determine the best similarity measure for the data, with options from Euclidean to Cosine distance for different spatial and categorical data patterns. The `p` parameter within the Minkowski distance offers flexibility by allowing for a continuum of distance calculations, encompassing both standard metrics (Euclidean and Manhattan) and a wide range of alternative geometries for datasets with non-standard structures."
   ]
  },
  {
   "cell_type": "code",
   "execution_count": 19,
   "id": "f41bcd89",
   "metadata": {},
   "outputs": [],
   "source": [
    "# Define a grid of hyperparameters for K-Nearest Neighbors (KNN) model with various distance metrics\n",
    "param_grid_knn = {\n",
    "    'n_neighbors': range(5, 25),          # Range for the number of neighbors to consider (k), from 5 to 24\n",
    "    'weights': ['uniform', 'distance'],   # Weight function: 'uniform' (equal weights) or 'distance' (closer points have higher influence)\n",
    "    'metric': ['euclidean', 'manhattan', 'chebyshev', 'hamming', 'cosine'] # Distance metrics for calculating similarity\n",
    "}\n",
    "\n",
    "# Define another grid of hyperparameters for KNN model, focusing on Minkowski distance metric with varying powers (p)\n",
    "param_grid_knn_minkowski = {\n",
    "    'n_neighbors': range(5, 25),          # Similar range for the number of neighbors as above\n",
    "    'weights': ['uniform', 'distance'],   # Weight function options as in the previous grid\n",
    "    'p': [2**i for i in range(20)]        # Powers of 2 up to 2^19 for the Minkowski distance metric, allowing flexibility in distance calculation\n",
    "}\n",
    "\n",
    "# Generate all combinations of hyperparameters from the first parameter grid for general KNN\n",
    "param_comb_knn1 = ParameterGrid(param_grid_knn)\n",
    "\n",
    "# Generate all combinations of hyperparameters from the Minkowski-specific parameter grid\n",
    "param_comb_knn2 = ParameterGrid(param_grid_knn_minkowski)"
   ]
  },
  {
   "cell_type": "code",
   "execution_count": 20,
   "id": "efe99773",
   "metadata": {},
   "outputs": [],
   "source": [
    "# Min-max scaler fit on training data\n",
    "scaler = MinMaxScaler()\n",
    "Xtrain_scaled = scaler.fit_transform(Xtrain)\n",
    "\n",
    "Xval_scaled = scaler.transform(Xval)\n",
    "Xtest_scaled = scaler.transform(Xtest)"
   ]
  },
  {
   "cell_type": "code",
   "execution_count": 21,
   "id": "3a8719aa",
   "metadata": {},
   "outputs": [],
   "source": [
    "val_acc_knn1 = []\n",
    "train_acc_knn1 = []\n",
    "val_acc_knn2 = []\n",
    "train_acc_knn2 = []\n",
    "\n",
    "for params in param_comb_knn1:\n",
    "    clf = KNeighborsClassifier(**params)\n",
    "    clf.fit(Xtrain_scaled, ytrain)\n",
    "    train_acc_knn1.append(metrics.accuracy_score(ytrain, clf.predict(Xtrain_scaled)))\n",
    "    val_acc_knn1.append(metrics.accuracy_score(yval, clf.predict(Xval_scaled)))\n",
    "\n",
    "for params in param_comb_knn2:\n",
    "    clf = KNeighborsClassifier(**params)\n",
    "    clf.fit(Xtrain_scaled, ytrain)\n",
    "    train_acc_knn2.append(metrics.accuracy_score(ytrain, clf.predict(Xtrain_scaled)))\n",
    "    val_acc_knn2.append(metrics.accuracy_score(yval, clf.predict(Xval_scaled)))"
   ]
  },
  {
   "cell_type": "code",
   "execution_count": 22,
   "id": "66148a39",
   "metadata": {},
   "outputs": [
    {
     "name": "stdout",
     "output_type": "stream",
     "text": [
      "Accuracy score for training dataset: 0.780000\n",
      "Accuracy score for validation dataset: 0.845000\n"
     ]
    }
   ],
   "source": [
    "best_parameters1 = param_comb_knn1[np.argmax(val_acc_knn1)]\n",
    "\n",
    "KNN1 = KNeighborsClassifier(**best_parameters1)\n",
    "KNN1.fit(Xtrain_scaled, ytrain)\n",
    "print('Accuracy score for training dataset: {0:.6f}'.format(metrics.accuracy_score(ytrain, KNN1.predict(Xtrain_scaled))))\n",
    "print('Accuracy score for validation dataset: {0:.6f}'.format(metrics.accuracy_score(yval, KNN1.predict(Xval_scaled))))"
   ]
  },
  {
   "cell_type": "code",
   "execution_count": 23,
   "id": "ededccf8",
   "metadata": {},
   "outputs": [
    {
     "name": "stdout",
     "output_type": "stream",
     "text": [
      "Accuracy score for training dataset: 0.775000\n",
      "Accuracy score for validation dataset: 0.850000\n"
     ]
    }
   ],
   "source": [
    "best_parameters2 = param_comb_knn2[np.argmax(val_acc_knn2)]\n",
    "\n",
    "KNN2 = KNeighborsClassifier(**best_parameters2)\n",
    "KNN2.fit(Xtrain_scaled, ytrain)\n",
    "print('Accuracy score for training dataset: {0:.6f}'.format(metrics.accuracy_score(ytrain, KNN2.predict(Xtrain_scaled))))\n",
    "print('Accuracy score for validation dataset: {0:.6f}'.format(metrics.accuracy_score(yval, KNN2.predict(Xval_scaled))))"
   ]
  },
  {
   "cell_type": "code",
   "execution_count": 24,
   "id": "072207cf",
   "metadata": {},
   "outputs": [
    {
     "name": "stdout",
     "output_type": "stream",
     "text": [
      "Accuracy score for training dataset: 0.775\n",
      "Accuracy score for validation dataset: 0.850\n"
     ]
    }
   ],
   "source": [
    "best_KNN = KNN2\n",
    "print('Accuracy score for training dataset: {0:.3f}'.format(metrics.accuracy_score(ytrain, best_KNN.predict(Xtrain_scaled))))\n",
    "print('Accuracy score for validation dataset: {0:.3f}'.format(metrics.accuracy_score(yval, best_KNN.predict(Xval_scaled))))"
   ]
  },
  {
   "cell_type": "markdown",
   "id": "9a2ba65d",
   "metadata": {},
   "source": [
    "**calculating f1 score for best kNN model**"
   ]
  },
  {
   "cell_type": "code",
   "execution_count": 25,
   "id": "394043a7",
   "metadata": {},
   "outputs": [
    {
     "name": "stdout",
     "output_type": "stream",
     "text": [
      "F1 Score: 0.742\n"
     ]
    }
   ],
   "source": [
    "y_pred = best_KNN.predict(Xtest_scaled)\n",
    "f1 = f1_score(ytest, y_pred)\n",
    "print(\"F1 Score:\", f1.round(3))"
   ]
  },
  {
   "cell_type": "markdown",
   "id": "7598b458",
   "metadata": {},
   "source": [
    "**calculating ROC curve and visualizing it**"
   ]
  },
  {
   "cell_type": "code",
   "execution_count": 26,
   "id": "1ca2d494",
   "metadata": {},
   "outputs": [
    {
     "data": {
      "image/png": "[encoded data removed]",
      "text/plain": [
       "<Figure size 800x600 with 1 Axes>"
      ]
     },
     "metadata": {},
     "output_type": "display_data"
    }
   ],
   "source": [
    "y_prob = best_KNN.predict_proba(Xtest_scaled)[:,1]\n",
    "\n",
    "# Calculate values for ROC curve and AUC-score\n",
    "fpr, tpr, thresholds = roc_curve(ytest, y_prob)\n",
    "roc_auc = auc(fpr, tpr)\n",
    "\n",
    "plt.figure(figsize=(8, 6))\n",
    "plt.plot(fpr, tpr, color='darkorange', lw=2, label='ROC curve (AUC = %0.3f)' % roc_auc)\n",
    "plt.plot([0, 1], [0, 1], color='navy', linestyle='--', lw=1.5, label='Chance')\n",
    "plt.fill_between(fpr, tpr, alpha=0.1, color='orange')  # Fill area under the curve\n",
    "\n",
    "# Adding titles and labels\n",
    "plt.title('Receiver Operating Characteristic (ROC) Curve', fontsize=16, weight='bold')\n",
    "plt.xlabel('False Positive Rate', fontsize=12)\n",
    "plt.ylabel('True Positive Rate', fontsize=12)\n",
    "plt.xlim([0.0, 1.0])\n",
    "plt.ylim([0.0, 1.05])\n",
    "\n",
    "# Grid and legend\n",
    "plt.grid(True, linestyle='--', alpha=0.6)\n",
    "plt.legend(loc=\"lower right\", fontsize=10)\n",
    "plt.show()"
   ]
  },
  {
   "cell_type": "markdown",
   "id": "80e9f275",
   "metadata": {},
   "source": [
    "### **Best model**"
   ]
  },
  {
   "cell_type": "markdown",
   "id": "e4533737",
   "metadata": {},
   "source": [
    "> I selected the best model based on the F1 Score and ROC Curve. The F1 Score balances precision and recall, indicating how well the model classifies both positive and negative cases. The ROC Curve shows the trade-off between true positive and false positive rates, with a higher AUC reflecting better class discrimination.\n",
    ">\n",
    "> I chose the k Nearest Neighbors model due to its strong performance on validation data, demonstrated by a high F1 Score and AUC. "
   ]
  },
  {
   "cell_type": "code",
   "execution_count": 27,
   "id": "827bbdbc",
   "metadata": {},
   "outputs": [
    {
     "name": "stdout",
     "output_type": "stream",
     "text": [
      "Accuracy score for testing dataset: 0.840\n"
     ]
    }
   ],
   "source": [
    "# test the final model we consider best\n",
    "best_model = KNN2\n",
    "print('Accuracy score for testing dataset: {0:.3f}'.format(metrics.accuracy_score(ytest, best_model.predict(Xtest_scaled))))"
   ]
  },
  {
   "cell_type": "markdown",
   "id": "47177266",
   "metadata": {},
   "source": [
    "> We can say that the accuracy when working with new data that were not used during training and selection of parameters and model will be around 84%"
   ]
  },
  {
   "cell_type": "markdown",
   "id": "2566c36b",
   "metadata": {},
   "source": [
    "**reading an evaluation dataset to check our model`s predictions**"
   ]
  },
  {
   "cell_type": "code",
   "execution_count": 28,
   "id": "c2384ff7",
   "metadata": {},
   "outputs": [
    {
     "name": "stdout",
     "output_type": "stream",
     "text": [
      "<class 'pandas.core.frame.DataFrame'>\n",
      "RangeIndex: 309 entries, 0 to 308\n",
      "Data columns (total 12 columns):\n",
      " #   Column     Non-Null Count  Dtype  \n",
      "---  ------     --------------  -----  \n",
      " 0   ID         309 non-null    int64  \n",
      " 1   pclass     309 non-null    int64  \n",
      " 2   name       309 non-null    object \n",
      " 3   sex        309 non-null    object \n",
      " 4   age        250 non-null    float64\n",
      " 5   sibsp      309 non-null    int64  \n",
      " 6   parch      309 non-null    int64  \n",
      " 7   ticket     309 non-null    object \n",
      " 8   fare       308 non-null    float64\n",
      " 9   cabin      70 non-null     object \n",
      " 10  embarked   307 non-null    object \n",
      " 11  home.dest  172 non-null    object \n",
      "dtypes: float64(2), int64(4), object(6)\n",
      "memory usage: 29.1+ KB\n"
     ]
    }
   ],
   "source": [
    "eval_df = pd.read_csv('evaluation.csv')\n",
    "eval_df.info()"
   ]
  },
  {
   "cell_type": "markdown",
   "id": "29631b55",
   "metadata": {},
   "source": [
    "*We can see that the evaluation dataset has null-values in same columns as our training dataset*"
   ]
  },
  {
   "cell_type": "markdown",
   "id": "292c78b8",
   "metadata": {},
   "source": [
    "**modifying data same way as `data.csv` to fit training data and check our model**"
   ]
  },
  {
   "cell_type": "code",
   "execution_count": 29,
   "id": "4afea8d1",
   "metadata": {},
   "outputs": [],
   "source": [
    "median_age = Xtrain['age'].median()\n",
    "median_fare = Xtrain['fare'].median()\n",
    "\n",
    "eval_df['age'] = eval_df['age'].fillna(median_age)\n",
    "eval_df['fare'] = eval_df['fare'].fillna(median_fare)\n",
    "\n",
    "id = eval_df[\"ID\"]\n",
    "eval_df.drop(columns=[\"ID\", \"name\", \"ticket\", \"cabin\", \"home.dest\"], inplace=True)\n",
    "\n",
    "# replacing null-values with -1 as we did in training dataset\n",
    "eval_df = eval_df.replace(np.nan, -1)"
   ]
  },
  {
   "cell_type": "code",
   "execution_count": 30,
   "id": "4a92dcea",
   "metadata": {},
   "outputs": [],
   "source": [
    "string_columns = eval_df.select_dtypes(['object']).columns\n",
    "\n",
    "for col in eval_df.select_dtypes(['object']).columns:\n",
    "    eval_df[col] = pd.factorize(eval_df[col])[0]\n",
    "\n",
    "df_eval_scaled = scaler.transform(eval_df)    "
   ]
  },
  {
   "cell_type": "code",
   "execution_count": 31,
   "id": "4b077c53",
   "metadata": {},
   "outputs": [
    {
     "data": {
      "text/plain": [
       "survived\n",
       "0    202\n",
       "1    107\n",
       "Name: count, dtype: int64"
      ]
     },
     "execution_count": 31,
     "metadata": {},
     "output_type": "execute_result"
    }
   ],
   "source": [
    "predicted_survived = best_model.predict(df_eval_scaled)\n",
    "\n",
    "df_result = pd.DataFrame({\n",
    "    'ID': id,\n",
    "    'survived': predicted_survived\n",
    "})\n",
    "\n",
    "df_result.to_csv('results.csv', index=False)\n",
    "df_result[\"survived\"].value_counts()"
   ]
  }
 ],
 "metadata": {
  "kernelspec": {
   "display_name": "Python 3",
   "language": "python",
   "name": "python3"
  },
  "language_info": {
   "codemirror_mode": {
    "name": "ipython",
    "version": 3
   },
   "file_extension": ".py",
   "mimetype": "text/x-python",
   "name": "python",
   "nbconvert_exporter": "python",
   "pygments_lexer": "ipython3",
   "version": "3.12.8"
  }
 },
 "nbformat": 4,
 "nbformat_minor": 5
}
